{
 "cells": [
  {
   "cell_type": "code",
   "execution_count": null,
   "metadata": {},
   "outputs": [],
   "source": [
    "# Performance Measure of classifier  on Imbalanced dataset##"
   ]
  },
  {
   "cell_type": "code",
   "execution_count": 1,
   "metadata": {},
   "outputs": [],
   "source": [
    "import warnings\n",
    "import pandas as pd\n",
    "from sklearn import model_selection\n",
    "from sklearn.linear_model import LogisticRegression\n",
    "from sklearn.metrics import confusion_matrix\n",
    "import matplotlib.pyplot as plt\n",
    "%matplotlib inline  "
   ]
  },
  {
   "cell_type": "code",
   "execution_count": 2,
   "metadata": {},
   "outputs": [
    {
     "data": {
      "text/html": [
       "<div>\n",
       "<style scoped>\n",
       "    .dataframe tbody tr th:only-of-type {\n",
       "        vertical-align: middle;\n",
       "    }\n",
       "\n",
       "    .dataframe tbody tr th {\n",
       "        vertical-align: top;\n",
       "    }\n",
       "\n",
       "    .dataframe thead th {\n",
       "        text-align: right;\n",
       "    }\n",
       "</style>\n",
       "<table border=\"1\" class=\"dataframe\">\n",
       "  <thead>\n",
       "    <tr style=\"text-align: right;\">\n",
       "      <th></th>\n",
       "      <th>0</th>\n",
       "      <th>-1.3598071336738</th>\n",
       "      <th>-0.0727811733098497</th>\n",
       "      <th>2.53634673796914</th>\n",
       "      <th>1.37815522427443</th>\n",
       "      <th>-0.338320769942518</th>\n",
       "      <th>0.462387777762292</th>\n",
       "      <th>0.239598554061257</th>\n",
       "      <th>0.0986979012610507</th>\n",
       "      <th>0.363786969611213</th>\n",
       "      <th>...</th>\n",
       "      <th>-0.018306777944153</th>\n",
       "      <th>0.277837575558899</th>\n",
       "      <th>-0.110473910188767</th>\n",
       "      <th>0.0669280749146731</th>\n",
       "      <th>0.128539358273528</th>\n",
       "      <th>-0.189114843888824</th>\n",
       "      <th>0.133558376740387</th>\n",
       "      <th>-0.0210530534538215</th>\n",
       "      <th>149.62</th>\n",
       "      <th>0.1</th>\n",
       "    </tr>\n",
       "  </thead>\n",
       "  <tbody>\n",
       "    <tr>\n",
       "      <td>0</td>\n",
       "      <td>0.0</td>\n",
       "      <td>1.191857</td>\n",
       "      <td>0.266151</td>\n",
       "      <td>0.166480</td>\n",
       "      <td>0.448154</td>\n",
       "      <td>0.060018</td>\n",
       "      <td>-0.082361</td>\n",
       "      <td>-0.078803</td>\n",
       "      <td>0.085102</td>\n",
       "      <td>-0.255425</td>\n",
       "      <td>...</td>\n",
       "      <td>-0.225775</td>\n",
       "      <td>-0.638672</td>\n",
       "      <td>0.101288</td>\n",
       "      <td>-0.339846</td>\n",
       "      <td>0.167170</td>\n",
       "      <td>0.125895</td>\n",
       "      <td>-0.008983</td>\n",
       "      <td>0.014724</td>\n",
       "      <td>2.69</td>\n",
       "      <td>0</td>\n",
       "    </tr>\n",
       "    <tr>\n",
       "      <td>1</td>\n",
       "      <td>1.0</td>\n",
       "      <td>-1.358354</td>\n",
       "      <td>-1.340163</td>\n",
       "      <td>1.773209</td>\n",
       "      <td>0.379780</td>\n",
       "      <td>-0.503198</td>\n",
       "      <td>1.800499</td>\n",
       "      <td>0.791461</td>\n",
       "      <td>0.247676</td>\n",
       "      <td>-1.514654</td>\n",
       "      <td>...</td>\n",
       "      <td>0.247998</td>\n",
       "      <td>0.771679</td>\n",
       "      <td>0.909412</td>\n",
       "      <td>-0.689281</td>\n",
       "      <td>-0.327642</td>\n",
       "      <td>-0.139097</td>\n",
       "      <td>-0.055353</td>\n",
       "      <td>-0.059752</td>\n",
       "      <td>378.66</td>\n",
       "      <td>0</td>\n",
       "    </tr>\n",
       "    <tr>\n",
       "      <td>2</td>\n",
       "      <td>1.0</td>\n",
       "      <td>-0.966272</td>\n",
       "      <td>-0.185226</td>\n",
       "      <td>1.792993</td>\n",
       "      <td>-0.863291</td>\n",
       "      <td>-0.010309</td>\n",
       "      <td>1.247203</td>\n",
       "      <td>0.237609</td>\n",
       "      <td>0.377436</td>\n",
       "      <td>-1.387024</td>\n",
       "      <td>...</td>\n",
       "      <td>-0.108300</td>\n",
       "      <td>0.005274</td>\n",
       "      <td>-0.190321</td>\n",
       "      <td>-1.175575</td>\n",
       "      <td>0.647376</td>\n",
       "      <td>-0.221929</td>\n",
       "      <td>0.062723</td>\n",
       "      <td>0.061458</td>\n",
       "      <td>123.50</td>\n",
       "      <td>0</td>\n",
       "    </tr>\n",
       "    <tr>\n",
       "      <td>3</td>\n",
       "      <td>2.0</td>\n",
       "      <td>-1.158233</td>\n",
       "      <td>0.877737</td>\n",
       "      <td>1.548718</td>\n",
       "      <td>0.403034</td>\n",
       "      <td>-0.407193</td>\n",
       "      <td>0.095921</td>\n",
       "      <td>0.592941</td>\n",
       "      <td>-0.270533</td>\n",
       "      <td>0.817739</td>\n",
       "      <td>...</td>\n",
       "      <td>-0.009431</td>\n",
       "      <td>0.798278</td>\n",
       "      <td>-0.137458</td>\n",
       "      <td>0.141267</td>\n",
       "      <td>-0.206010</td>\n",
       "      <td>0.502292</td>\n",
       "      <td>0.219422</td>\n",
       "      <td>0.215153</td>\n",
       "      <td>69.99</td>\n",
       "      <td>0</td>\n",
       "    </tr>\n",
       "    <tr>\n",
       "      <td>4</td>\n",
       "      <td>2.0</td>\n",
       "      <td>-0.425966</td>\n",
       "      <td>0.960523</td>\n",
       "      <td>1.141109</td>\n",
       "      <td>-0.168252</td>\n",
       "      <td>0.420987</td>\n",
       "      <td>-0.029728</td>\n",
       "      <td>0.476201</td>\n",
       "      <td>0.260314</td>\n",
       "      <td>-0.568671</td>\n",
       "      <td>...</td>\n",
       "      <td>-0.208254</td>\n",
       "      <td>-0.559825</td>\n",
       "      <td>-0.026398</td>\n",
       "      <td>-0.371427</td>\n",
       "      <td>-0.232794</td>\n",
       "      <td>0.105915</td>\n",
       "      <td>0.253844</td>\n",
       "      <td>0.081080</td>\n",
       "      <td>3.67</td>\n",
       "      <td>0</td>\n",
       "    </tr>\n",
       "    <tr>\n",
       "      <td>...</td>\n",
       "      <td>...</td>\n",
       "      <td>...</td>\n",
       "      <td>...</td>\n",
       "      <td>...</td>\n",
       "      <td>...</td>\n",
       "      <td>...</td>\n",
       "      <td>...</td>\n",
       "      <td>...</td>\n",
       "      <td>...</td>\n",
       "      <td>...</td>\n",
       "      <td>...</td>\n",
       "      <td>...</td>\n",
       "      <td>...</td>\n",
       "      <td>...</td>\n",
       "      <td>...</td>\n",
       "      <td>...</td>\n",
       "      <td>...</td>\n",
       "      <td>...</td>\n",
       "      <td>...</td>\n",
       "      <td>...</td>\n",
       "      <td>...</td>\n",
       "    </tr>\n",
       "    <tr>\n",
       "      <td>284801</td>\n",
       "      <td>172786.0</td>\n",
       "      <td>-11.881118</td>\n",
       "      <td>10.071785</td>\n",
       "      <td>-9.834783</td>\n",
       "      <td>-2.066656</td>\n",
       "      <td>-5.364473</td>\n",
       "      <td>-2.606837</td>\n",
       "      <td>-4.918215</td>\n",
       "      <td>7.305334</td>\n",
       "      <td>1.914428</td>\n",
       "      <td>...</td>\n",
       "      <td>0.213454</td>\n",
       "      <td>0.111864</td>\n",
       "      <td>1.014480</td>\n",
       "      <td>-0.509348</td>\n",
       "      <td>1.436807</td>\n",
       "      <td>0.250034</td>\n",
       "      <td>0.943651</td>\n",
       "      <td>0.823731</td>\n",
       "      <td>0.77</td>\n",
       "      <td>0</td>\n",
       "    </tr>\n",
       "    <tr>\n",
       "      <td>284802</td>\n",
       "      <td>172787.0</td>\n",
       "      <td>-0.732789</td>\n",
       "      <td>-0.055080</td>\n",
       "      <td>2.035030</td>\n",
       "      <td>-0.738589</td>\n",
       "      <td>0.868229</td>\n",
       "      <td>1.058415</td>\n",
       "      <td>0.024330</td>\n",
       "      <td>0.294869</td>\n",
       "      <td>0.584800</td>\n",
       "      <td>...</td>\n",
       "      <td>0.214205</td>\n",
       "      <td>0.924384</td>\n",
       "      <td>0.012463</td>\n",
       "      <td>-1.016226</td>\n",
       "      <td>-0.606624</td>\n",
       "      <td>-0.395255</td>\n",
       "      <td>0.068472</td>\n",
       "      <td>-0.053527</td>\n",
       "      <td>24.79</td>\n",
       "      <td>0</td>\n",
       "    </tr>\n",
       "    <tr>\n",
       "      <td>284803</td>\n",
       "      <td>172788.0</td>\n",
       "      <td>1.919565</td>\n",
       "      <td>-0.301254</td>\n",
       "      <td>-3.249640</td>\n",
       "      <td>-0.557828</td>\n",
       "      <td>2.630515</td>\n",
       "      <td>3.031260</td>\n",
       "      <td>-0.296827</td>\n",
       "      <td>0.708417</td>\n",
       "      <td>0.432454</td>\n",
       "      <td>...</td>\n",
       "      <td>0.232045</td>\n",
       "      <td>0.578229</td>\n",
       "      <td>-0.037501</td>\n",
       "      <td>0.640134</td>\n",
       "      <td>0.265745</td>\n",
       "      <td>-0.087371</td>\n",
       "      <td>0.004455</td>\n",
       "      <td>-0.026561</td>\n",
       "      <td>67.88</td>\n",
       "      <td>0</td>\n",
       "    </tr>\n",
       "    <tr>\n",
       "      <td>284804</td>\n",
       "      <td>172788.0</td>\n",
       "      <td>-0.240440</td>\n",
       "      <td>0.530483</td>\n",
       "      <td>0.702510</td>\n",
       "      <td>0.689799</td>\n",
       "      <td>-0.377961</td>\n",
       "      <td>0.623708</td>\n",
       "      <td>-0.686180</td>\n",
       "      <td>0.679145</td>\n",
       "      <td>0.392087</td>\n",
       "      <td>...</td>\n",
       "      <td>0.265245</td>\n",
       "      <td>0.800049</td>\n",
       "      <td>-0.163298</td>\n",
       "      <td>0.123205</td>\n",
       "      <td>-0.569159</td>\n",
       "      <td>0.546668</td>\n",
       "      <td>0.108821</td>\n",
       "      <td>0.104533</td>\n",
       "      <td>10.00</td>\n",
       "      <td>0</td>\n",
       "    </tr>\n",
       "    <tr>\n",
       "      <td>284805</td>\n",
       "      <td>172792.0</td>\n",
       "      <td>-0.533413</td>\n",
       "      <td>-0.189733</td>\n",
       "      <td>0.703337</td>\n",
       "      <td>-0.506271</td>\n",
       "      <td>-0.012546</td>\n",
       "      <td>-0.649617</td>\n",
       "      <td>1.577006</td>\n",
       "      <td>-0.414650</td>\n",
       "      <td>0.486180</td>\n",
       "      <td>...</td>\n",
       "      <td>0.261057</td>\n",
       "      <td>0.643078</td>\n",
       "      <td>0.376777</td>\n",
       "      <td>0.008797</td>\n",
       "      <td>-0.473649</td>\n",
       "      <td>-0.818267</td>\n",
       "      <td>-0.002415</td>\n",
       "      <td>0.013649</td>\n",
       "      <td>217.00</td>\n",
       "      <td>0</td>\n",
       "    </tr>\n",
       "  </tbody>\n",
       "</table>\n",
       "<p>284806 rows × 31 columns</p>\n",
       "</div>"
      ],
      "text/plain": [
       "               0  -1.3598071336738  -0.0727811733098497  2.53634673796914  \\\n",
       "0            0.0          1.191857             0.266151          0.166480   \n",
       "1            1.0         -1.358354            -1.340163          1.773209   \n",
       "2            1.0         -0.966272            -0.185226          1.792993   \n",
       "3            2.0         -1.158233             0.877737          1.548718   \n",
       "4            2.0         -0.425966             0.960523          1.141109   \n",
       "...          ...               ...                  ...               ...   \n",
       "284801  172786.0        -11.881118            10.071785         -9.834783   \n",
       "284802  172787.0         -0.732789            -0.055080          2.035030   \n",
       "284803  172788.0          1.919565            -0.301254         -3.249640   \n",
       "284804  172788.0         -0.240440             0.530483          0.702510   \n",
       "284805  172792.0         -0.533413            -0.189733          0.703337   \n",
       "\n",
       "        1.37815522427443  -0.338320769942518  0.462387777762292  \\\n",
       "0               0.448154            0.060018          -0.082361   \n",
       "1               0.379780           -0.503198           1.800499   \n",
       "2              -0.863291           -0.010309           1.247203   \n",
       "3               0.403034           -0.407193           0.095921   \n",
       "4              -0.168252            0.420987          -0.029728   \n",
       "...                  ...                 ...                ...   \n",
       "284801         -2.066656           -5.364473          -2.606837   \n",
       "284802         -0.738589            0.868229           1.058415   \n",
       "284803         -0.557828            2.630515           3.031260   \n",
       "284804          0.689799           -0.377961           0.623708   \n",
       "284805         -0.506271           -0.012546          -0.649617   \n",
       "\n",
       "        0.239598554061257  0.0986979012610507  0.363786969611213  ...  \\\n",
       "0               -0.078803            0.085102          -0.255425  ...   \n",
       "1                0.791461            0.247676          -1.514654  ...   \n",
       "2                0.237609            0.377436          -1.387024  ...   \n",
       "3                0.592941           -0.270533           0.817739  ...   \n",
       "4                0.476201            0.260314          -0.568671  ...   \n",
       "...                   ...                 ...                ...  ...   \n",
       "284801          -4.918215            7.305334           1.914428  ...   \n",
       "284802           0.024330            0.294869           0.584800  ...   \n",
       "284803          -0.296827            0.708417           0.432454  ...   \n",
       "284804          -0.686180            0.679145           0.392087  ...   \n",
       "284805           1.577006           -0.414650           0.486180  ...   \n",
       "\n",
       "        -0.018306777944153  0.277837575558899  -0.110473910188767  \\\n",
       "0                -0.225775          -0.638672            0.101288   \n",
       "1                 0.247998           0.771679            0.909412   \n",
       "2                -0.108300           0.005274           -0.190321   \n",
       "3                -0.009431           0.798278           -0.137458   \n",
       "4                -0.208254          -0.559825           -0.026398   \n",
       "...                    ...                ...                 ...   \n",
       "284801            0.213454           0.111864            1.014480   \n",
       "284802            0.214205           0.924384            0.012463   \n",
       "284803            0.232045           0.578229           -0.037501   \n",
       "284804            0.265245           0.800049           -0.163298   \n",
       "284805            0.261057           0.643078            0.376777   \n",
       "\n",
       "        0.0669280749146731  0.128539358273528  -0.189114843888824  \\\n",
       "0                -0.339846           0.167170            0.125895   \n",
       "1                -0.689281          -0.327642           -0.139097   \n",
       "2                -1.175575           0.647376           -0.221929   \n",
       "3                 0.141267          -0.206010            0.502292   \n",
       "4                -0.371427          -0.232794            0.105915   \n",
       "...                    ...                ...                 ...   \n",
       "284801           -0.509348           1.436807            0.250034   \n",
       "284802           -1.016226          -0.606624           -0.395255   \n",
       "284803            0.640134           0.265745           -0.087371   \n",
       "284804            0.123205          -0.569159            0.546668   \n",
       "284805            0.008797          -0.473649           -0.818267   \n",
       "\n",
       "        0.133558376740387  -0.0210530534538215  149.62  0.1  \n",
       "0               -0.008983             0.014724    2.69    0  \n",
       "1               -0.055353            -0.059752  378.66    0  \n",
       "2                0.062723             0.061458  123.50    0  \n",
       "3                0.219422             0.215153   69.99    0  \n",
       "4                0.253844             0.081080    3.67    0  \n",
       "...                   ...                  ...     ...  ...  \n",
       "284801           0.943651             0.823731    0.77    0  \n",
       "284802           0.068472            -0.053527   24.79    0  \n",
       "284803           0.004455            -0.026561   67.88    0  \n",
       "284804           0.108821             0.104533   10.00    0  \n",
       "284805          -0.002415             0.013649  217.00    0  \n",
       "\n",
       "[284806 rows x 31 columns]"
      ]
     },
     "execution_count": 2,
     "metadata": {},
     "output_type": "execute_result"
    }
   ],
   "source": [
    "#ignore warnings\n",
    "warnings.filterwarnings('ignore')\n",
    "# Load digits dataset\n",
    "\n",
    "\n",
    "df = pd.read_csv('creditcard.csv\\creditcard.csv')\n",
    "df"
   ]
  },
  {
   "cell_type": "code",
   "execution_count": 3,
   "metadata": {},
   "outputs": [
    {
     "name": "stdout",
     "output_type": "stream",
     "text": [
      "<class 'pandas.core.frame.DataFrame'>\n",
      "RangeIndex: 284806 entries, 0 to 284805\n",
      "Data columns (total 31 columns):\n",
      "0                      284806 non-null float64\n",
      "-1.3598071336738       284806 non-null float64\n",
      "-0.0727811733098497    284806 non-null float64\n",
      "2.53634673796914       284806 non-null float64\n",
      "1.37815522427443       284806 non-null float64\n",
      "-0.338320769942518     284806 non-null float64\n",
      "0.462387777762292      284806 non-null float64\n",
      "0.239598554061257      284806 non-null float64\n",
      "0.0986979012610507     284806 non-null float64\n",
      "0.363786969611213      284806 non-null float64\n",
      "0.0907941719789316     284806 non-null float64\n",
      "-0.551599533260813     284806 non-null float64\n",
      "-0.617800855762348     284806 non-null float64\n",
      "-0.991389847235408     284806 non-null float64\n",
      "-0.311169353699879     284806 non-null float64\n",
      "1.46817697209427       284806 non-null float64\n",
      "-0.470400525259478     284806 non-null float64\n",
      "0.207971241929242      284806 non-null float64\n",
      "0.0257905801985591     284806 non-null float64\n",
      "0.403992960255733      284806 non-null float64\n",
      "0.251412098239705      284806 non-null float64\n",
      "-0.018306777944153     284806 non-null float64\n",
      "0.277837575558899      284806 non-null float64\n",
      "-0.110473910188767     284806 non-null float64\n",
      "0.0669280749146731     284806 non-null float64\n",
      "0.128539358273528      284806 non-null float64\n",
      "-0.189114843888824     284806 non-null float64\n",
      "0.133558376740387      284806 non-null float64\n",
      "-0.0210530534538215    284806 non-null float64\n",
      "149.62                 284806 non-null float64\n",
      "0.1                    284806 non-null int64\n",
      "dtypes: float64(30), int64(1)\n",
      "memory usage: 67.4 MB\n"
     ]
    }
   ],
   "source": [
    "df.info()"
   ]
  },
  {
   "cell_type": "code",
   "execution_count": 4,
   "metadata": {},
   "outputs": [],
   "source": [
    "# df = df.values\n",
    "X = df.iloc[:,0:30]\n",
    "y = df.iloc[:,30]\n",
    "#test size\n",
    "test_size = 0.33\n",
    "#generate the same set of random numbers\n",
    "seed = 42"
   ]
  },
  {
   "cell_type": "code",
   "execution_count": 5,
   "metadata": {},
   "outputs": [],
   "source": [
    "#Split data into train and test set. \n",
    "X_train, X_test, y_train, y_test = model_selection.train_test_split(X, y, test_size=test_size, random_state=seed)"
   ]
  },
  {
   "cell_type": "code",
   "execution_count": 6,
   "metadata": {},
   "outputs": [],
   "source": [
    "#Train Model\n",
    "model = LogisticRegression()\n",
    "model.fit(X_train, y_train)\n",
    "pred = model.predict(X_test)"
   ]
  },
  {
   "cell_type": "code",
   "execution_count": 7,
   "metadata": {},
   "outputs": [
    {
     "name": "stdout",
     "output_type": "stream",
     "text": [
      "[[93786    43]\n",
      " [   60    97]]\n"
     ]
    }
   ],
   "source": [
    "#Construct the Confusion Matrix\n",
    "labels = [0, 1]\n",
    "cm = confusion_matrix(y_test, pred, labels)\n",
    "print(cm)"
   ]
  },
  {
   "cell_type": "code",
   "execution_count": 8,
   "metadata": {},
   "outputs": [
    {
     "data": {
      "image/png": "[encoded data removed]",
      "text/plain": [
       "<Figure size 432x288 with 2 Axes>"
      ]
     },
     "metadata": {
      "needs_background": "light"
     },
     "output_type": "display_data"
    }
   ],
   "source": [
    "fig = plt.figure()\n",
    "ax = fig.add_subplot(111)\n",
    "cax = ax.matshow(cm)\n",
    "plt.title('Confusion matrix')\n",
    "fig.colorbar(cax)\n",
    "ax.set_xticklabels([''] + labels)\n",
    "ax.set_yticklabels([''] + labels)\n",
    "plt.xlabel('Predicted Values')\n",
    "plt.ylabel('Actual Values')\n",
    "plt.show()"
   ]
  },
  {
   "cell_type": "markdown",
   "metadata": {},
   "source": [
    "# To compute the accuracy on classification task"
   ]
  },
  {
   "cell_type": "code",
   "execution_count": 9,
   "metadata": {},
   "outputs": [
    {
     "name": "stdout",
     "output_type": "stream",
     "text": [
      "Accuracy -val set: 99.66% (0.01)\n",
      "Accuracy - test set: 99.89%\n"
     ]
    }
   ],
   "source": [
    "#cross-validation settings\n",
    "kfold = model_selection.KFold(n_splits=10, random_state=seed)\n",
    "#Model instance\n",
    "model = LogisticRegression()\n",
    "#Evaluate model performance\n",
    "scoring = 'accuracy'\n",
    "results = model_selection.cross_val_score(model, X, y, cv=kfold, scoring=scoring)\n",
    "print('Accuracy -val set: %.2f%% (%.2f)' % (results.mean()*100, results.std()))\n",
    "\n",
    "#split data\n",
    "X_train, X_test, y_train, y_test = model_selection.train_test_split(X, y, test_size=test_size, random_state=seed)\n",
    "#fit model\n",
    "model.fit(X_train, y_train)\n",
    "#accuracy on test set\n",
    "result = model.score(X_test, y_test)\n",
    "print(\"Accuracy - test set: %.2f%%\" % (result*100.0))"
   ]
  },
  {
   "cell_type": "markdown",
   "metadata": {},
   "source": [
    "# Computation of Precision"
   ]
  },
  {
   "cell_type": "code",
   "execution_count": 10,
   "metadata": {},
   "outputs": [],
   "source": [
    "from sklearn.metrics import precision_recall_fscore_support as score, precision_score, recall_score, f1_score"
   ]
  },
  {
   "cell_type": "code",
   "execution_count": 11,
   "metadata": {},
   "outputs": [
    {
     "name": "stdout",
     "output_type": "stream",
     "text": [
      "Precision: 0.692857\n",
      "Recall: 0.617834\n",
      "F1 score: 0.653199\n"
     ]
    }
   ],
   "source": [
    "precision = precision_score(y_test, pred)\n",
    "print('Precision: %f' % precision)\n",
    "# recall: tp / (tp + fn)\n",
    "recall = recall_score(y_test, pred)\n",
    "print('Recall: %f' % recall)\n",
    "# f1: tp / (tp + fp + fn)\n",
    "f1 = f1_score(y_test, pred)\n",
    "print('F1 score: %f' % f1)"
   ]
  },
  {
   "cell_type": "markdown",
   "metadata": {},
   "source": [
    "# ROC curves"
   ]
  },
  {
   "cell_type": "code",
   "execution_count": 12,
   "metadata": {},
   "outputs": [],
   "source": [
    "from sklearn.metrics import roc_auc_score, roc_curve"
   ]
  },
  {
   "cell_type": "code",
   "execution_count": 13,
   "metadata": {},
   "outputs": [],
   "source": [
    "# predict probabilities\n",
    "probs = model.predict_proba(X_test)\n",
    "# keep probabilities for the positive outcome only\n",
    "probs = probs[:, 1]\n"
   ]
  },
  {
   "cell_type": "code",
   "execution_count": 14,
   "metadata": {},
   "outputs": [
    {
     "name": "stdout",
     "output_type": "stream",
     "text": [
      "AUC - Test Set: 91.11%\n"
     ]
    }
   ],
   "source": [
    "auc = roc_auc_score(y_test, probs)\n",
    "print('AUC - Test Set: %.2f%%' % (auc*100))"
   ]
  },
  {
   "cell_type": "code",
   "execution_count": 15,
   "metadata": {},
   "outputs": [],
   "source": [
    "# calculate roc curve\n",
    "fpr, tpr, thresholds = roc_curve(y_test, probs)"
   ]
  },
  {
   "cell_type": "code",
   "execution_count": 16,
   "metadata": {},
   "outputs": [
    {
     "data": {
      "image/png": "[encoded data removed]",
      "text/plain": [
       "<Figure size 432x288 with 1 Axes>"
      ]
     },
     "metadata": {
      "needs_background": "light"
     },
     "output_type": "display_data"
    }
   ],
   "source": [
    "# plot no skill\n",
    "plt.plot([0, 1], [0, 1], linestyle='--')\n",
    "# plot the roc curve for the model\n",
    "plt.plot(fpr, tpr, marker='.')\n",
    "plt.xlabel('False positive rate')\n",
    "plt.ylabel('Sensitivity/ Recall')\n",
    "# show the plot\n",
    "plt.show()"
   ]
  },
  {
   "cell_type": "markdown",
   "metadata": {},
   "source": [
    "# Log Loss"
   ]
  },
  {
   "cell_type": "markdown",
   "metadata": {},
   "source": [
    "Log Loss is a slight twist on something called the Likelihood Function. In fact, Log Loss is -1 * the log of the likelihood function. So, we will start by understanding the likelihood function.\n",
    "-  A perfect model would have a log loss of 0.\n",
    "-  It is a measure of uncertainty (you may call it entropy), so a low Log Loss means a low uncertainty/entropy of your model.\n",
    "-  Log Loss is similar to the Accuracy, but it will favor models that distinguish more strongly the classes."
   ]
  },
  {
   "cell_type": "code",
   "execution_count": 17,
   "metadata": {},
   "outputs": [],
   "source": [
    "from sklearn.metrics import log_loss"
   ]
  },
  {
   "cell_type": "code",
   "execution_count": 18,
   "metadata": {},
   "outputs": [
    {
     "name": "stdout",
     "output_type": "stream",
     "text": [
      "Logloss: 0.04\n"
     ]
    }
   ],
   "source": [
    "accuracy = log_loss(y_test, pred)\n",
    "print(\"Logloss: %.2f\" % (accuracy))"
   ]
  },
  {
   "cell_type": "code",
   "execution_count": null,
   "metadata": {},
   "outputs": [],
   "source": []
  }
 ],
 "metadata": {
  "kernelspec": {
   "display_name": "Python 3",
   "language": "python",
   "name": "python3"
  },
  "language_info": {
   "codemirror_mode": {
    "name": "ipython",
    "version": 3
   },
   "file_extension": ".py",
   "mimetype": "text/x-python",
   "name": "python",
   "nbconvert_exporter": "python",
   "pygments_lexer": "ipython3",
   "version": "3.7.4"
  }
 },
 "nbformat": 4,
 "nbformat_minor": 2
}
